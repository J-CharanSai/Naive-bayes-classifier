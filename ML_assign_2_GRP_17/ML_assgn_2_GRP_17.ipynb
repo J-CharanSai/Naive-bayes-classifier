{
 "cells": [
  {
   "cell_type": "code",
   "execution_count": 55,
   "metadata": {
    "id": "qPGCKo7oe-kb"
   },
   "outputs": [],
   "source": [
    "import numpy as np \n",
    "import pandas as pd\n",
    "from sklearn.model_selection import train_test_split\n",
    "import random\n",
    "import matplotlib.pyplot as plt \n",
    "from sklearn.metrics import accuracy_score\n",
    "import math\n",
    "from tqdm import tqdm_notebook\n",
    "import re\n",
    "import seaborn as sn\n",
    "from scipy.sparse import lil_matrix, csr_matrix\n",
    "from collections import Counter"
   ]
  },
  {
   "cell_type": "code",
   "execution_count": 56,
   "metadata": {
    "id": "GyGwFvrijWgJ"
   },
   "outputs": [],
   "source": [
    "stopwords = [\"i\", \"me\", \"my\", \"myself\", \"we\", \"our\", \"ours\", \"ourselves\", \"you\",\"youu\",\"youuu\", \"your\", \"yours\", \"yourself\", \"yourselves\", \n",
    "             \"he\", \"him\", \"his\", \"himself\", \"she\", \"her\", \"hers\", \"herself\", \"it\", \"its\", \"itself\", \"they\", \"them\", \"their\", \"theirs\", \n",
    "             \"themselves\", \"what\", \"which\", \"who\", \"whom\", \"this\", \"that\", \"these\", \"those\", \"am\", \"is\", \"are\", \"was\", \"were\", \"be\", \"been\", \n",
    "             \"being\", \"have\", \"has\", \"had\", \"having\", \"do\", \"does\", \"did\", \"doing\", \"a\", \"an\", \"the\", \"and\", \"but\", \"if\", \"or\", \"because\", \"as\", \n",
    "             \"until\", \"while\", \"of\", \"at\", \"by\", \"for\", \"with\", \"about\", \"against\", \"between\", \"into\", \"through\", \"during\", \"before\", \"after\", \n",
    "             \"above\", \"below\", \"to\", \"from\", \"up\", \"down\", \"in\", \"out\", \"on\", \"off\", \"over\", \"under\", \"again\", \"further\", \"then\", \"once\", \"here\", \n",
    "             \"there\", \"when\", \"where\", \"why\", \"how\", \"all\", \"any\", \"both\", \"each\", \"few\", \"more\", \"most\", \"other\", \"some\", \"such\", \"no\", \"nor\", \n",
    "             \"not\", \"only\", \"own\", \"same\", \"so\", \"than\", \"too\", \"very\", \"s\", \"t\", \"can\", \"will\", \"just\", \"don\", \"should\", \"now\"]"
   ]
  },
  {
   "cell_type": "code",
   "execution_count": 57,
   "metadata": {
    "colab": {
     "base_uri": "https://localhost:8080/",
     "height": 381
    },
    "id": "rkzuXT_MdL_f",
    "outputId": "61553c8d-96cf-401f-ee14-64ed075e3e60"
   },
   "outputs": [],
   "source": [
    "data=pd.read_csv(\"train.csv\")"
   ]
  },
  {
   "cell_type": "code",
   "execution_count": 58,
   "metadata": {
    "id": "rjUSegieex2B"
   },
   "outputs": [
    {
     "data": {
      "text/html": [
       "<div>\n",
       "<style scoped>\n",
       "    .dataframe tbody tr th:only-of-type {\n",
       "        vertical-align: middle;\n",
       "    }\n",
       "\n",
       "    .dataframe tbody tr th {\n",
       "        vertical-align: top;\n",
       "    }\n",
       "\n",
       "    .dataframe thead th {\n",
       "        text-align: right;\n",
       "    }\n",
       "</style>\n",
       "<table border=\"1\" class=\"dataframe\">\n",
       "  <thead>\n",
       "    <tr style=\"text-align: right;\">\n",
       "      <th></th>\n",
       "      <th>id</th>\n",
       "      <th>label</th>\n",
       "      <th>tweet</th>\n",
       "    </tr>\n",
       "  </thead>\n",
       "  <tbody>\n",
       "    <tr>\n",
       "      <th>0</th>\n",
       "      <td>1</td>\n",
       "      <td>0</td>\n",
       "      <td>@user when a father is dysfunctional and is s...</td>\n",
       "    </tr>\n",
       "    <tr>\n",
       "      <th>1</th>\n",
       "      <td>2</td>\n",
       "      <td>0</td>\n",
       "      <td>@user @user thanks for #lyft credit i can't us...</td>\n",
       "    </tr>\n",
       "    <tr>\n",
       "      <th>2</th>\n",
       "      <td>3</td>\n",
       "      <td>0</td>\n",
       "      <td>bihday your majesty</td>\n",
       "    </tr>\n",
       "    <tr>\n",
       "      <th>3</th>\n",
       "      <td>4</td>\n",
       "      <td>0</td>\n",
       "      <td>#model   i love u take with u all the time in ...</td>\n",
       "    </tr>\n",
       "    <tr>\n",
       "      <th>4</th>\n",
       "      <td>5</td>\n",
       "      <td>0</td>\n",
       "      <td>factsguide: society now    #motivation</td>\n",
       "    </tr>\n",
       "    <tr>\n",
       "      <th>...</th>\n",
       "      <td>...</td>\n",
       "      <td>...</td>\n",
       "      <td>...</td>\n",
       "    </tr>\n",
       "    <tr>\n",
       "      <th>31957</th>\n",
       "      <td>31958</td>\n",
       "      <td>0</td>\n",
       "      <td>ate @user isz that youuu?ðððððð...</td>\n",
       "    </tr>\n",
       "    <tr>\n",
       "      <th>31958</th>\n",
       "      <td>31959</td>\n",
       "      <td>0</td>\n",
       "      <td>to see nina turner on the airwaves trying to...</td>\n",
       "    </tr>\n",
       "    <tr>\n",
       "      <th>31959</th>\n",
       "      <td>31960</td>\n",
       "      <td>0</td>\n",
       "      <td>listening to sad songs on a monday morning otw...</td>\n",
       "    </tr>\n",
       "    <tr>\n",
       "      <th>31960</th>\n",
       "      <td>31961</td>\n",
       "      <td>1</td>\n",
       "      <td>@user #sikh #temple vandalised in in #calgary,...</td>\n",
       "    </tr>\n",
       "    <tr>\n",
       "      <th>31961</th>\n",
       "      <td>31962</td>\n",
       "      <td>0</td>\n",
       "      <td>thank you @user for you follow</td>\n",
       "    </tr>\n",
       "  </tbody>\n",
       "</table>\n",
       "<p>31962 rows × 3 columns</p>\n",
       "</div>"
      ],
      "text/plain": [
       "          id  label                                              tweet\n",
       "0          1      0   @user when a father is dysfunctional and is s...\n",
       "1          2      0  @user @user thanks for #lyft credit i can't us...\n",
       "2          3      0                                bihday your majesty\n",
       "3          4      0  #model   i love u take with u all the time in ...\n",
       "4          5      0             factsguide: society now    #motivation\n",
       "...      ...    ...                                                ...\n",
       "31957  31958      0  ate @user isz that youuu?ðððððð...\n",
       "31958  31959      0    to see nina turner on the airwaves trying to...\n",
       "31959  31960      0  listening to sad songs on a monday morning otw...\n",
       "31960  31961      1  @user #sikh #temple vandalised in in #calgary,...\n",
       "31961  31962      0                   thank you @user for you follow  \n",
       "\n",
       "[31962 rows x 3 columns]"
      ]
     },
     "execution_count": 58,
     "metadata": {},
     "output_type": "execute_result"
    }
   ],
   "source": [
    "data"
   ]
  },
  {
   "cell_type": "code",
   "execution_count": 59,
   "metadata": {
    "id": "-qhwUejpFz1O"
   },
   "outputs": [
    {
     "data": {
      "text/plain": [
       "' @user when a father is dysfunctional and is so selfish he drags his kids into his dysfunction.   #run'"
      ]
     },
     "execution_count": 59,
     "metadata": {},
     "output_type": "execute_result"
    }
   ],
   "source": [
    "data['tweet'][0]"
   ]
  },
  {
   "cell_type": "code",
   "execution_count": 60,
   "metadata": {
    "id": "wIM8ywt8D42e"
   },
   "outputs": [
    {
     "name": "stdout",
     "output_type": "stream",
     "text": [
      "Negative tweets  =  2242 with percentage  7.014579813528565 %\n",
      "Positive tweets  =  29720 with percentage  92.98542018647143 %\n"
     ]
    }
   ],
   "source": [
    "y_value_counts=data['label'].value_counts()\n",
    "print(\"Negative tweets  = \",y_value_counts[1], \"with percentage \", (y_value_counts[1]*100)/(y_value_counts[0]+y_value_counts[1]),'%')\n",
    "print(\"Positive tweets  = \",y_value_counts[0], \"with percentage \", (y_value_counts[0]*100)/(y_value_counts[0]+y_value_counts[1]),'%')"
   ]
  },
  {
   "cell_type": "code",
   "execution_count": 61,
   "metadata": {
    "id": "YT1tBFSlE9B5"
   },
   "outputs": [],
   "source": [
    "data['tweet']=data['tweet'].str.replace(' ','_')\n",
    "data['tweet']=data['tweet'].str.replace('-','_')\n",
    "data['tweet']=data['tweet'].str.lower()"
   ]
  },
  {
   "cell_type": "code",
   "execution_count": 62,
   "metadata": {
    "id": "RwbNhd6vEeQv"
   },
   "outputs": [],
   "source": [
    "def expand(sent):\n",
    "    \"This function will replace english short notations with full form\"\n",
    "    \n",
    "    sent=re.sub(r\"can't\", \"can not\",sent)\n",
    "    sent=re.sub(r\"won't\", \"will not\",sent)\n",
    "    \n",
    "    sent=re.sub(r\"n\\'t\", \" not\",sent)\n",
    "    sent=re.sub(r\"\\'re\", \" are\",sent)\n",
    "    sent=re.sub(r\"\\'m\",\" am\",sent)\n",
    "    sent=re.sub(r\"\\'s\",\" is\",sent)\n",
    "    sent=re.sub(r\"\\'ll\",\" will\",sent)\n",
    "    sent=re.sub(r\"\\'ve\",\" have\",sent)\n",
    "    sent=re.sub(r\"\\'d\",\" would\",sent)\n",
    "    sent=re.sub(r\"\\'t\", \" not\",sent)\n",
    "    \n",
    "    return sent\n",
    "    "
   ]
  },
  {
   "cell_type": "code",
   "execution_count": 63,
   "metadata": {
    "id": "4cN6AxzLEYC4"
   },
   "outputs": [],
   "source": [
    "def preprocess_tweet(text):\n",
    "    \"function for preprocess the text data\"\n",
    "    \n",
    "    preprocessed_tweet=[]\n",
    "    \n",
    "    for sentence in tqdm_notebook(text):\n",
    "        sent=expand(sentence)\n",
    "        sent=sent.replace(\"\\\\r\",\" \")\n",
    "        sent=sent.replace(\"\\\\n\",\" \")\n",
    "        sent=sent.replace('\\\\\"',\" \")\n",
    "        sent=re.findall(\"[a-z0-9]+\",sentence.lower())\n",
    "        \n",
    "        sent=\" \".join(i for i in sent if i.lower() not in stopwords)\n",
    "        preprocessed_tweet.append(sent.lower().strip())\n",
    "        \n",
    "    return preprocessed_tweet\n",
    "        "
   ]
  },
  {
   "cell_type": "code",
   "execution_count": 64,
   "metadata": {
    "id": "D3CAc6eOX0td"
   },
   "outputs": [
    {
     "data": {
      "text/plain": [
       "'_@user_when_a_father_is_dysfunctional_and_is_so_selfish_he_drags_his_kids_into_his_dysfunction.___#run'"
      ]
     },
     "execution_count": 64,
     "metadata": {},
     "output_type": "execute_result"
    }
   ],
   "source": [
    "data['tweet'][0]"
   ]
  },
  {
   "cell_type": "code",
   "execution_count": 65,
   "metadata": {
    "id": "jh1c5OxfEh0T"
   },
   "outputs": [
    {
     "name": "stderr",
     "output_type": "stream",
     "text": [
      "<ipython-input-63-579385195985>:6: TqdmDeprecationWarning: This function will be removed in tqdm==5.0.0\n",
      "Please use `tqdm.notebook.tqdm` instead of `tqdm.tqdm_notebook`\n",
      "  for sentence in tqdm_notebook(text):\n"
     ]
    },
    {
     "data": {
      "application/vnd.jupyter.widget-view+json": {
       "model_id": "284b1e95fd01410984df1dc06fd8a894",
       "version_major": 2,
       "version_minor": 0
      },
      "text/plain": [
       "HBox(children=(HTML(value=''), FloatProgress(value=0.0, max=31962.0), HTML(value='')))"
      ]
     },
     "metadata": {},
     "output_type": "display_data"
    },
    {
     "name": "stdout",
     "output_type": "stream",
     "text": [
      "\n"
     ]
    }
   ],
   "source": [
    "preprocessed_tweets=preprocess_tweet(data['tweet'].values)"
   ]
  },
  {
   "cell_type": "code",
   "execution_count": 66,
   "metadata": {
    "id": "VVJkvKS9Exw1"
   },
   "outputs": [],
   "source": [
    "data['tweet']=preprocessed_tweets"
   ]
  },
  {
   "cell_type": "code",
   "execution_count": 67,
   "metadata": {
    "id": "oc6WSp8WFUJZ"
   },
   "outputs": [
    {
     "data": {
      "text/plain": [
       "'listening sad songs monday morning otw work sad'"
      ]
     },
     "execution_count": 67,
     "metadata": {},
     "output_type": "execute_result"
    }
   ],
   "source": [
    "data['tweet'][31959]"
   ]
  },
  {
   "cell_type": "code",
   "execution_count": 68,
   "metadata": {
    "id": "Ml_Z4lwuekxD"
   },
   "outputs": [
    {
     "name": "stderr",
     "output_type": "stream",
     "text": [
      "<ipython-input-68-682c8cc50988>:2: TqdmDeprecationWarning: This function will be removed in tqdm==5.0.0\n",
      "Please use `tqdm.notebook.tqdm` instead of `tqdm.tqdm_notebook`\n",
      "  for i in tqdm_notebook(data['tweet']):\n"
     ]
    },
    {
     "data": {
      "application/vnd.jupyter.widget-view+json": {
       "model_id": "a8b9bc8e05c547379dc3debc7840ba7d",
       "version_major": 2,
       "version_minor": 0
      },
      "text/plain": [
       "HBox(children=(HTML(value=''), FloatProgress(value=0.0, max=31962.0), HTML(value='')))"
      ]
     },
     "metadata": {},
     "output_type": "display_data"
    },
    {
     "name": "stdout",
     "output_type": "stream",
     "text": [
      "\n"
     ]
    }
   ],
   "source": [
    "vocabulary = []\n",
    "for i in tqdm_notebook(data['tweet']):\n",
    "    for k in i.split(' '):\n",
    "        vocabulary.append(k)"
   ]
  },
  {
   "cell_type": "code",
   "execution_count": 69,
   "metadata": {
    "id": "mNQKNAtyofeI"
   },
   "outputs": [],
   "source": [
    "counter = Counter(vocabulary)\n",
    "top10 = counter.most_common(10)"
   ]
  },
  {
   "cell_type": "code",
   "execution_count": 70,
   "metadata": {
    "id": "GMzJvXhnoZbE"
   },
   "outputs": [],
   "source": [
    "xaxes = [i[1] for i in top10]\n",
    "yaxes = [i[0] for i in top10]"
   ]
  },
  {
   "cell_type": "code",
   "execution_count": 71,
   "metadata": {
    "id": "3EmSpk49ol7F"
   },
   "outputs": [
    {
     "data": {
      "image/png": "[encoded data removed]",
      "text/plain": [
       "<Figure size 842.4x595.44 with 1 Axes>"
      ]
     },
     "metadata": {},
     "output_type": "display_data"
    },
    {
     "name": "stderr",
     "output_type": "stream",
     "text": [
      "No handles with labels found to put in legend.\n"
     ]
    }
   ],
   "source": [
    "# sn.set(font_scale=1.5)\n",
    "sn.set_style('whitegrid');\n",
    "sn.set(rc={'figure.figsize':(11.7,8.27)})\n",
    "ax=sn.barplot(x=xaxes, y=yaxes);\n",
    "ax.set_title('TOP WORDS',loc='center', pad=20, fontdict={'fontsize': 15,\n",
    "        'fontweight': 'bold',\n",
    "        'color': 'black',\n",
    "        'verticalalignment': 'baseline',\n",
    "        });\n",
    "# ax.set(xlabel='Tweets Sentiments', ylabel='No. of Tweets');\n",
    "plt.show()\n",
    "ax.legend()\n",
    "ax.figure.savefig('top10wordscount.png',pad_inches=5)"
   ]
  },
  {
   "cell_type": "code",
   "execution_count": 72,
   "metadata": {
    "id": "UmDhekyT4M-q"
   },
   "outputs": [
    {
     "name": "stdout",
     "output_type": "stream",
     "text": [
      "274346\n",
      "38961\n"
     ]
    }
   ],
   "source": [
    "print(len(vocabulary))\n",
    "VOC = set(vocabulary)\n",
    "VOC = list(VOC)\n",
    "print(len(VOC))"
   ]
  },
  {
   "cell_type": "code",
   "execution_count": 73,
   "metadata": {
    "id": "KpTSQX7Y4wiD"
   },
   "outputs": [],
   "source": [
    "c = len(VOC)\n",
    "r = len(data)\n",
    "M = csr_matrix((r, c), dtype = np.bool).toarray()"
   ]
  },
  {
   "cell_type": "code",
   "execution_count": 74,
   "metadata": {
    "id": "ho2198GUTTHp"
   },
   "outputs": [],
   "source": [
    "VOC_ind = {}\n",
    "for i in range(len(VOC)):\n",
    "  VOC_ind[VOC[i]] = i"
   ]
  },
  {
   "cell_type": "code",
   "execution_count": 75,
   "metadata": {
    "id": "f6XGPa0H6U46"
   },
   "outputs": [
    {
     "name": "stderr",
     "output_type": "stream",
     "text": [
      "<ipython-input-75-1d2562a53999>:2: TqdmDeprecationWarning: This function will be removed in tqdm==5.0.0\n",
      "Please use `tqdm.notebook.tqdm` instead of `tqdm.tqdm_notebook`\n",
      "  for j in tqdm_notebook(data['tweet']):\n"
     ]
    },
    {
     "data": {
      "application/vnd.jupyter.widget-view+json": {
       "model_id": "84be420288ae45188b120e018e32d38b",
       "version_major": 2,
       "version_minor": 0
      },
      "text/plain": [
       "HBox(children=(HTML(value=''), FloatProgress(value=0.0, max=31962.0), HTML(value='')))"
      ]
     },
     "metadata": {},
     "output_type": "display_data"
    },
    {
     "name": "stdout",
     "output_type": "stream",
     "text": [
      "\n"
     ]
    }
   ],
   "source": [
    "i = 0\n",
    "for j in tqdm_notebook(data['tweet']):\n",
    "  for k in j.split(' '):\n",
    "    M[i][VOC_ind[k]] = True\n",
    "  i += 1"
   ]
  },
  {
   "cell_type": "code",
   "execution_count": 76,
   "metadata": {
    "id": "aRL3Kg6P8g-i"
   },
   "outputs": [],
   "source": [
    "x_train,x_test,y_train,y_test=train_test_split(M,data['label'],test_size=0.3,stratify=data['label'])"
   ]
  },
  {
   "cell_type": "code",
   "execution_count": 77,
   "metadata": {
    "id": "4BYgaTiezAOA"
   },
   "outputs": [],
   "source": [
    "class NBC:\n",
    "  def __init__(self):\n",
    "    self.lc1 = 1\n",
    "    self.lc0 = 1\n",
    "    self.e = 1\n",
    "    self.p0 = 1\n",
    "    self.p1 = 1\n",
    "  \n",
    "  def predict(self,x, LC = False):\n",
    "    y_pred = []\n",
    "    e1 = self.lc1\n",
    "    e0 = self.lc0\n",
    "    if LC:\n",
    "      e1 = self.lc1 + (self.e*len(self.probability_1))\n",
    "      e0 = self.lc0 + (self.e*len(self.probability_0))\n",
    "    for i in tqdm_notebook(x):\n",
    "      r = 1\n",
    "      nr = 1\n",
    "      for k in range(len(i)):\n",
    "        if i[k]:\n",
    "          if LC:\n",
    "            r *= (self.probability_1[k]+1)/e1\n",
    "            nr *= (self.probability_0[k]+1)/e0\n",
    "          else:\n",
    "            r *= self.probability_1[k]/e1\n",
    "            nr *= self.probability_0[k]/e0\n",
    "      r *= self.p1\n",
    "      nr *= self.p0\n",
    "      if r > nr:\n",
    "        y_pred.append(1)\n",
    "      else:\n",
    "        y_pred.append(0)\n",
    "    return y_pred\n",
    "  \n",
    "  def fit(self, X, Y):\n",
    "    # 2 output classes 1. Rasist (1)\n",
    "    #                  2. Not Rasist (0)\n",
    "    self.probability_0 = X.sum(axis=0)\n",
    "    self.n = len(X)\n",
    "    self.probability_1 = [0]*len(self.probability_0)\n",
    "    for i,j in zip(X,Y):\n",
    "      if j == 1:\n",
    "        for k in range(len(i)):\n",
    "          if i[k]:\n",
    "            self.probability_1[k] += 1\n",
    "            self.probability_0[k] -= 1\n",
    "    self.probability_1 = np.array(self.probability_1)\n",
    "    self.lc1 = np.sum(self.probability_1)\n",
    "    self.lc0 = np.sum(self.probability_0)\n",
    "    self.p1 = Y.sum()/len(Y)\n",
    "    self.p0 = 1-self.p1\n",
    "    # self.probability_1 = [x / r for x in self.probability_1]\n",
    "    # self.probability_0 = [x / nr for x in self.probability_0]\n",
    "    return \n",
    "  \n",
    "  def find(self,a,n):\n",
    "    b = 1.96*math.sqrt((a*(1-a)/n))\n",
    "    print(\"\\t\\t\" + \"%.3f\"%(a*100) + \" +/- \" + \"%.3f\"%(b*100))\n",
    "    # a1 = (a + ((1.96*1.96)/(2*n)))/(1 + ((1.96*1.96)/(n)))\n",
    "    # b1 = 1.96*math.sqrt((a*(1-a)/(n+4)))\n",
    "    # print(\"\\t\\t\" + \"%.3f\"%(a1*100) + \" +/- \" + \"%.3f\"%(b1*100))\n",
    "  \n",
    "  def info(self, X, Y,LC = False):\n",
    "    n = len(X)\n",
    "    if LC:\n",
    "      y_pred = self.predict(X, LC = True)\n",
    "      print(\"With laplace correction\")\n",
    "    else:\n",
    "      y_pred = self.predict(X)\n",
    "      print(\"without laplace correction\")\n",
    "    acc = accuracy_score(Y,y_pred)\n",
    "    TP = 0\n",
    "    FP = 0\n",
    "    FN = 0\n",
    "    TN = 0\n",
    "    for i,j in zip(Y, y_pred):\n",
    "      if i==1 and j == 1:\n",
    "        TP += 1\n",
    "      elif i == 1 and j == 0:\n",
    "        FN += 1\n",
    "      elif i == 0 and j == 1:\n",
    "        FP += 1\n",
    "      else:\n",
    "        TN += 1\n",
    "    sensitivity = TP/(TP + FN)\n",
    "    specificity = TN / (TN + FP)\n",
    "    precision = TP /(TP + FP)\n",
    "    f_score = 2 * (precision*sensitivity/(precision + sensitivity))\n",
    "    print(\"\\taccuracy : \")\n",
    "    self.find(acc,n)\n",
    "    print(\"\\tprecision = \")\n",
    "    self.find(precision,n)\n",
    "    print(\"\\tf-score = \")\n",
    "    self.find(f_score,n)\n",
    "    print(\"\\tsensitivity = \")\n",
    "    self.find(sensitivity,n)\n",
    "    print(\"\\tspecificity = \")\n",
    "    self.find(specificity,n)\n",
    "    print(\"true positives : \",TP)\n",
    "    print(\"false positives : \",FP)\n",
    "    print(\"true negatives : \",TN)\n",
    "    print(\"false negatives : \",FN)\n",
    "    "
   ]
  },
  {
   "cell_type": "code",
   "execution_count": 78,
   "metadata": {
    "id": "nL1gMASEOyMB"
   },
   "outputs": [],
   "source": [
    "nbc = NBC()\n",
    "nbc.fit(X = x_train, Y = y_train)"
   ]
  },
  {
   "cell_type": "code",
   "execution_count": 79,
   "metadata": {
    "id": "r0UICexgSbZY"
   },
   "outputs": [
    {
     "name": "stderr",
     "output_type": "stream",
     "text": [
      "<ipython-input-77-dd73cc4cf121>:16: TqdmDeprecationWarning: This function will be removed in tqdm==5.0.0\n",
      "Please use `tqdm.notebook.tqdm` instead of `tqdm.tqdm_notebook`\n",
      "  for i in tqdm_notebook(x):\n"
     ]
    },
    {
     "data": {
      "application/vnd.jupyter.widget-view+json": {
       "model_id": "4790a8efbcaf41278ea614eed1a9d681",
       "version_major": 2,
       "version_minor": 0
      },
      "text/plain": [
       "HBox(children=(HTML(value=''), FloatProgress(value=0.0, max=9589.0), HTML(value='')))"
      ]
     },
     "metadata": {},
     "output_type": "display_data"
    },
    {
     "name": "stdout",
     "output_type": "stream",
     "text": [
      "\n",
      "without laplace correction\n",
      "\taccuracy : \n",
      "\t\t94.817 +/- 0.444\n",
      "\tprecision = \n",
      "\t\t80.137 +/- 0.799\n",
      "\tf-score = \n",
      "\t\t48.497 +/- 1.000\n",
      "\tsensitivity = \n",
      "\t\t34.770 +/- 0.953\n",
      "\tspecificity = \n",
      "\t\t99.349 +/- 0.161\n",
      "true positives :  234\n",
      "false positives :  58\n",
      "true negatives :  8858\n",
      "false negatives :  439\n"
     ]
    }
   ],
   "source": [
    "nbc.info(X = x_test, Y = y_test, LC = False)"
   ]
  },
  {
   "cell_type": "code",
   "execution_count": 80,
   "metadata": {
    "id": "tNt9V5TgbXFv"
   },
   "outputs": [
    {
     "name": "stderr",
     "output_type": "stream",
     "text": [
      "<ipython-input-77-dd73cc4cf121>:16: TqdmDeprecationWarning: This function will be removed in tqdm==5.0.0\n",
      "Please use `tqdm.notebook.tqdm` instead of `tqdm.tqdm_notebook`\n",
      "  for i in tqdm_notebook(x):\n"
     ]
    },
    {
     "data": {
      "application/vnd.jupyter.widget-view+json": {
       "model_id": "aad13256a145416b83cc5f6466525340",
       "version_major": 2,
       "version_minor": 0
      },
      "text/plain": [
       "HBox(children=(HTML(value=''), FloatProgress(value=0.0, max=9589.0), HTML(value='')))"
      ]
     },
     "metadata": {},
     "output_type": "display_data"
    },
    {
     "name": "stdout",
     "output_type": "stream",
     "text": [
      "\n",
      "With laplace correction\n",
      "\taccuracy : \n",
      "\t\t94.848 +/- 0.442\n",
      "\tprecision = \n",
      "\t\t65.674 +/- 0.950\n",
      "\tf-score = \n",
      "\t\t60.289 +/- 0.979\n",
      "\tsensitivity = \n",
      "\t\t55.721 +/- 0.994\n",
      "\tspecificity = \n",
      "\t\t97.802 +/- 0.293\n",
      "true positives :  375\n",
      "false positives :  196\n",
      "true negatives :  8720\n",
      "false negatives :  298\n"
     ]
    }
   ],
   "source": [
    "nbc.info(X = x_test, Y = y_test, LC = True)"
   ]
  },
  {
   "cell_type": "code",
   "execution_count": null,
   "metadata": {
    "id": "oWsG8uQPjMCi"
   },
   "outputs": [],
   "source": []
  }
 ],
 "metadata": {
  "colab": {
   "collapsed_sections": [],
   "name": "ML_assgn_2.ipynb",
   "provenance": []
  },
  "kernelspec": {
   "display_name": "Python 3",
   "language": "python",
   "name": "python3"
  },
  "language_info": {
   "codemirror_mode": {
    "name": "ipython",
    "version": 3
   },
   "file_extension": ".py",
   "mimetype": "text/x-python",
   "name": "python",
   "nbconvert_exporter": "python",
   "pygments_lexer": "ipython3",
   "version": "3.8.5"
  }
 },
 "nbformat": 4,
 "nbformat_minor": 1
}
